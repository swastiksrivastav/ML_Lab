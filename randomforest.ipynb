{
  "nbformat": 4,
  "nbformat_minor": 0,
  "metadata": {
    "colab": {
      "provenance": []
    },
    "kernelspec": {
      "name": "python3",
      "display_name": "Python 3"
    },
    "language_info": {
      "name": "python"
    }
  },
  "cells": [
    {
      "cell_type": "code",
      "execution_count": 6,
      "metadata": {
        "colab": {
          "base_uri": "https://localhost:8080/"
        },
        "id": "WHJwlwvaE86R",
        "outputId": "c54f5f1b-be52-4d3e-fce6-010f03e14711"
      },
      "outputs": [
        {
          "output_type": "stream",
          "name": "stdout",
          "text": [
            "Accuracy: 0.98\n"
          ]
        }
      ],
      "source": [
        "import pandas as pd\n",
        "from sklearn.model_selection import train_test_split\n",
        "from sklearn.ensemble import RandomForestClassifier\n",
        "from sklearn.metrics import accuracy_score\n",
        "\n",
        "# Step 1: Read the CSV file\n",
        "data = pd.read_csv('/content/sample_data/Iris.csv')\n",
        "\n",
        "# Step 2: Data Preparation\n",
        "X = data.drop('Species', axis=1)\n",
        "y = data['Species']\n",
        "\n",
        "# Step 3: Train-Test Split\n",
        "X_train, X_test, y_train, y_test = train_test_split(X, y, test_size=0.39, random_state=49)\n",
        "\n",
        "# Step 4: Create and Train the RandomForestClassifier\n",
        "rf_classifier = RandomForestClassifier(n_estimators=100, random_state=42)\n",
        "rf_classifier.fit(X_train, y_train)\n",
        "\n",
        "# Step 5: Make Predictions\n",
        "y_pred = rf_classifier.predict(X_test)\n",
        "\n",
        "# Step 6: Evaluate the Model\n",
        "accuracy = accuracy_score(y_test, y_pred)\n",
        "print(f'Accuracy: {accuracy:.2f}')\n"
      ]
    }
  ]
}