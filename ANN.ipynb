{
  "nbformat": 4,
  "nbformat_minor": 0,
  "metadata": {
    "colab": {
      "provenance": []
    },
    "kernelspec": {
      "name": "python3",
      "display_name": "Python 3"
    },
    "language_info": {
      "name": "python"
    }
  },
  "cells": [
    {
      "cell_type": "code",
      "execution_count": 1,
      "metadata": {
        "id": "bMphP-uTILmh"
      },
      "outputs": [],
      "source": [
        "#Implementation of ANN using BP for given values\n",
        "import numpy as np\n",
        "X = np.array(([2, 9], [1, 5], [3, 6]), dtype=float)\n",
        " #two inputs (sleep, study]\n",
        "y= np.array(([92], [86], [89]), dtype=float) #one output [Expected & in Exams]\n",
        "X = X/np.amax (X, axis=0) # maximum of X array longitudinally\n",
        "\n",
        "y= y/100\n",
        "\n",
        "#Variable initialization\n",
        "epoch=5000\n",
        "#Setting training iterations\n",
        "lr=0.1\n",
        "#Setting learning rate\n",
        "inputlayer_neurons = 2\n",
        "#number of features in data set\n",
        "hiddenlayer_neurons = 3\n",
        "#number of hidden layers neurons\n",
        "output_neurons = 1\n",
        "#number of neurons at output layer\n",
        "#weight and bias initialization\n",
        "wh=np.random.uniform(size=(inputlayer_neurons, hiddenlayer_neurons))\n",
        " #weight of the link from\n",
        "bh=np.random.uniform(size=(1,hiddenlayer_neurons))\n",
        "# bias of the link from input node to hidd\n",
        "wout=np.random.uniform(size=(hiddenlayer_neurons, output_neurons))\n",
        "#weight of the link from hi\n",
        "bout=np.random.uniform(size=(1,output_neurons)) #bias of the link from hidden node to output"
      ]
    },
    {
      "cell_type": "code",
      "source": [
        "#Sigmoid Function\n",
        "def sigmoid (x):\n",
        " return 1/(1 + np.exp(-x))\n",
        "\n",
        "#Derivative of Sigmoid Function\n",
        "def derivatives_sigmoid(x):\n",
        " return x * (1-x)\n",
        "\n",
        "#draws a random range of numbers uniformly of dim x*y\n",
        "for i in range(epoch):\n",
        "#Forward Propogation\n",
        "  hinpl=np.dot(X, wh)\n",
        "  hinp=hinpl+ bh\n",
        "  hlayer_act = sigmoid (hinp)\n",
        "  outinpl=np.dot(hlayer_act, wout)\n",
        "  outinp= outinpl+ bout\n",
        "  output = sigmoid(outinp)\n",
        "#Backpropagation\n",
        "  EO = y-output\n",
        "  outgrad= derivatives_sigmoid(output)\n",
        "  d_output= EO* outgrad\n",
        "  EH=d_output.dot(wout.T)"
      ],
      "metadata": {
        "id": "rKvAbKDPJFvi"
      },
      "execution_count": 2,
      "outputs": []
    },
    {
      "cell_type": "code",
      "source": [
        "#how much hidden layer weights contributed to error\n",
        "hiddengrad=derivatives_sigmoid(hlayer_act)\n",
        "d_hiddenlayer =EH *hiddengrad\n",
        "\n",
        "#dotproduct of nextlayererror and currentlayerop\n",
        "wout += hlayer_act.T.dot(d_output) *lr\n",
        "wh += X.T.dot(d_hiddenlayer) *lr\n",
        "print(\"Input: \\n\" + str(X))\n",
        "print(\"Actual Output: \\n\" + str(y))\n",
        "print(\"Predicted Output: \\n\",output)"
      ],
      "metadata": {
        "colab": {
          "base_uri": "https://localhost:8080/"
        },
        "id": "1r2siUhHJs4Z",
        "outputId": "a8fb54dc-7eac-49b0-e90c-89e7f30ba76c"
      },
      "execution_count": 3,
      "outputs": [
        {
          "output_type": "stream",
          "name": "stdout",
          "text": [
            "Input: \n",
            "[[0.66666667 1.        ]\n",
            " [0.33333333 0.55555556]\n",
            " [1.         0.66666667]]\n",
            "Actual Output: \n",
            "[[0.92]\n",
            " [0.86]\n",
            " [0.89]]\n",
            "Predicted Output: \n",
            " [[0.77823897]\n",
            " [0.76613466]\n",
            " [0.77394876]]\n"
          ]
        }
      ]
    }
  ]
}